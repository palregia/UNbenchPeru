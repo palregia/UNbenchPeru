{
 "cells": [
  {
   "cell_type": "code",
   "execution_count": 2,
   "metadata": {},
   "outputs": [
    {
     "name": "stdout",
     "output_type": "stream",
     "text": [
      "Número de drafts cargados: 10\n",
      "\n",
      "Primer draft ID: S/2018/72\n",
      "Primer texto: United Nations S/2018/72 – Security Council, Distr.: General – 30 January 2018 – Original: English – ...\n"
     ]
    }
   ],
   "source": [
    "import json\n",
    "\n",
    "# Cargar los datos\n",
    "with open('./task3.json', 'r') as f:\n",
    "    data = json.load(f)\n",
    "\n",
    "# Obtener solo los textos de los drafts\n",
    "test_texts = [draft['content'] for draft in data['drafts']]\n",
    "\n",
    "# Si necesitas los IDs también\n",
    "draft_ids = [draft['id'] for draft in data['drafts']]\n",
    "\n",
    "# Imprimir información para verificar\n",
    "print(f\"Número de drafts cargados: {len(test_texts)}\")\n",
    "print(\"\\nPrimer draft ID:\", draft_ids[0])\n",
    "print(\"Primer texto:\", test_texts[0][:100], \"...\")  # Mostrar los primeros 100 caracteres"
   ]
  },
  {
   "cell_type": "code",
   "execution_count": 3,
   "metadata": {},
   "outputs": [],
   "source": [
    "# If use Together API\n",
    "from together import Together\n",
    "\n",
    "your_model_name = 'meta-llama/Llama-3.3-70B-Instruct-Turbo-Free'\n",
    "your_api_key = '574bf95f6b33074e60f284c2c6316e72c5ef8226ce8ce4650dacca4d51ce1050'\n",
    "client = Together(api_key=your_api_key)"
   ]
  },
  {
   "cell_type": "code",
   "execution_count": 4,
   "metadata": {},
   "outputs": [
    {
     "name": "stderr",
     "output_type": "stream",
     "text": [
      "100%|███████████████████████████████████████████| 10/10 [01:16<00:00,  7.65s/it]\n"
     ]
    }
   ],
   "source": [
    "from tqdm import tqdm\n",
    "import pandas as pd\n",
    "import random\n",
    "\n",
    "def classify_texts(texts):\n",
    "    results = []\n",
    "    max_tokens = 7000  # Dejamos margen para el prompt y la respuesta\n",
    "    \n",
    "    for text in tqdm(texts):\n",
    "        # Truncamos el texto si es muy largo\n",
    "        if len(text.split()) > max_tokens:\n",
    "            text = ' '.join(text.split()[:max_tokens]) + '...'\n",
    "            \n",
    "        user_prompt = f\"\"\"\n",
    "        The provided document is a United Nations Security Council's draft resolution. Predict whether the draft resolution will be adopted or not. Answer with 'yes' (1) or 'no' (0) without any explanation.\n",
    "\n",
    "        Text: \"{text}\"\n",
    "        Answer:\n",
    "        \"\"\"\n",
    "        \n",
    "        try:\n",
    "            response = client.chat.completions.create(\n",
    "                model=your_model_name,\n",
    "                messages=[\n",
    "                    {\"role\": \"system\", \"content\": \"You are a helpful assistant.\"},\n",
    "                    {\"role\": \"user\", \"content\": user_prompt}\n",
    "                ],\n",
    "                max_tokens=5,\n",
    "                temperature=0.0\n",
    "            )\n",
    "            result = response.choices[0].message.content.strip().lower()\n",
    "            \n",
    "            if result.startswith(\"yes\") or result == \"1\":\n",
    "                results.append(1)\n",
    "            elif result.startswith(\"no\") or result == \"0\":\n",
    "                results.append(0)\n",
    "            else:\n",
    "                results.append(random.choice([0, 1]))\n",
    "        except Exception as e:\n",
    "            print(f\"Error procesando texto: {e}\")\n",
    "            results.append(random.choice([0, 1]))  # Fallback en caso de error\n",
    "            \n",
    "    return results\n",
    "\n",
    "pred = classify_texts(test_texts)"
   ]
  },
  {
   "cell_type": "code",
   "execution_count": 5,
   "metadata": {},
   "outputs": [],
   "source": [
    "# calculate metrics\n",
    "from sklearn.metrics import accuracy_score, balanced_accuracy_score, precision_recall_fscore_support\n",
    "from sklearn.metrics import roc_auc_score, average_precision_score, matthews_corrcoef\n",
    "from imblearn.metrics import geometric_mean_score\n",
    "\n",
    "from sklearn.metrics import accuracy_score, precision_score, recall_score, f1_score, confusion_matrix, classification_report\n",
    "from sklearn.metrics import roc_auc_score, balanced_accuracy_score, precision_recall_curve, auc\n",
    "\n",
    "def calculate_metrics(pred, labels):\n",
    "    # swap 0 and 1\n",
    "    pred = [1 - x for x in pred]\n",
    "    labels = [1 - x for x in labels]\n",
    "    acc = accuracy_score(labels, pred)\n",
    "    try:\n",
    "        roc_auc = roc_auc_score(labels, pred)\n",
    "    except ValueError:\n",
    "        roc_auc = 0\n",
    "    balanced_acc = balanced_accuracy_score(labels, pred)\n",
    "    prec, rec, f1, _ = precision_recall_fscore_support(labels, pred, average='binary')\n",
    "    # pr_auc = average_precision_score(labels, pred)\n",
    "    precision, recall, _ = precision_recall_curve(labels, pred)\n",
    "    pr_auc = auc(recall, precision)\n",
    "    mcc = matthews_corrcoef(labels, pred)\n",
    "    g_mean = geometric_mean_score(labels, pred)\n",
    "    tn, fp, fn, tp = confusion_matrix(labels, pred).ravel()\n",
    "    specificity = tn / (tn + fp)\n",
    "\n",
    "    print(f'Accuracy: {acc}')\n",
    "    print(f'AUC: {roc_auc}')\n",
    "    print(f'Balanced Accuracy: {balanced_acc}')\n",
    "    print(f'Precision: {prec}')\n",
    "    print(f'Recall: {rec}')\n",
    "    print(f'F1: {f1}')\n",
    "    print(f'PR AUC: {pr_auc}')\n",
    "    print(f'MCC: {mcc}')\n",
    "    print(f'G-Mean: {g_mean}')\n",
    "    print(f'Specificity: {specificity}')\n",
    "\n",
    "    print('Accuracy AUC Balanced_Acc Precision Recall F1 PR_AUC MCC G-Mean Specificity')\n",
    "    print(f'{acc:.4f} {roc_auc:.4f} {balanced_acc:.4f} {prec:.4f} {rec:.4f} {f1:.4f} {pr_auc:.4f} {mcc:.4f} {g_mean:.4f} {specificity:.4f}')\n",
    "\n"
   ]
  },
  {
   "cell_type": "code",
   "execution_count": 8,
   "metadata": {},
   "outputs": [
    {
     "name": "stdout",
     "output_type": "stream",
     "text": [
      "Average Cosine Similarity (TF-IDF): 0.5529949286626793\n"
     ]
    }
   ],
   "source": [
    "# Calcular similitudes TF-IDF\n",
    "from sklearn.feature_extraction.text import TfidfVectorizer\n",
    "from sklearn.metrics.pairwise import cosine_similarity\n",
    "\n",
    "tf_cosine_scores = []\n",
    "for i in range(len(test_texts)-1):  # Comparar cada texto con el siguiente\n",
    "    tfidf = TfidfVectorizer().fit_transform([test_texts[i], test_texts[i+1]])\n",
    "    score = cosine_similarity(tfidf[0], tfidf[1])[0][0]\n",
    "    tf_cosine_scores.append(score)\n",
    "\n",
    "print('Average Cosine Similarity (TF-IDF):', sum(tf_cosine_scores) / len(tf_cosine_scores))"
   ]
  },
  {
   "cell_type": "code",
   "execution_count": null,
   "metadata": {},
   "outputs": [],
   "source": []
  }
 ],
 "metadata": {
  "kernelspec": {
   "display_name": "Python 3 (ipykernel)",
   "language": "python",
   "name": "python3"
  },
  "language_info": {
   "codemirror_mode": {
    "name": "ipython",
    "version": 3
   },
   "file_extension": ".py",
   "mimetype": "text/x-python",
   "name": "python",
   "nbconvert_exporter": "python",
   "pygments_lexer": "ipython3",
   "version": "3.9.13"
  }
 },
 "nbformat": 4,
 "nbformat_minor": 4
}
