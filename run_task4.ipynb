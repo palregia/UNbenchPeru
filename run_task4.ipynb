{
 "cells": [
  {
   "cell_type": "code",
   "execution_count": 10,
   "metadata": {},
   "outputs": [],
   "source": [
    "import json\n",
    "\n",
    "with open('./task4.json') as f:\n",
    "    data = json.load(f)\n"
   ]
  },
  {
   "cell_type": "code",
   "execution_count": 11,
   "metadata": {},
   "outputs": [],
   "source": [
    "# If use Together API\n",
    "from together import Together\n",
    "\n",
    "your_model_name = 'meta-llama/Llama-3.3-70B-Instruct-Turbo-Free'\n",
    "your_api_key = '574bf95f6b33074e60f284c2c6316e72c5ef8226ce8ce4650dacca4d51ce1050'\n",
    "client = Together(api_key=your_api_key)"
   ]
  },
  {
   "cell_type": "code",
   "execution_count": 12,
   "metadata": {},
   "outputs": [
    {
     "name": "stdout",
     "output_type": "stream",
     "text": [
      "Average Cosine Similarity (TF-IDF): 0.6675293071521021\n"
     ]
    }
   ],
   "source": [
    "\n",
    "import json\n",
    "from sklearn.feature_extraction.text import TfidfVectorizer\n",
    "from sklearn.metrics.pairwise import cosine_similarity\n",
    "\n",
    "# Inicializar listas para almacenar statements y generations\n",
    "statements = []\n",
    "generations = []\n",
    "\n",
    "# Procesar cada statement y generar su correspondiente respuesta\n",
    "for statement in data['Statements']:\n",
    "    country = statement['country']\n",
    "    system_prompt = f\"\"\"\n",
    "    Assume you are the representative of {country} in UNSC, given the content of a UNSC draft resolution, generate a statement that you would make in the meeting.\n",
    "    \"\"\"\n",
    "    user_prompt = f\"\"\"\n",
    "    Draft resolution: {data['Content']}\n",
    "    Your statement:\n",
    "    \"\"\"\n",
    "    \n",
    "    response = client.chat.completions.create(\n",
    "        model=your_model_name,\n",
    "        temperature=0.0,\n",
    "        messages=[\n",
    "            {\"role\": \"system\", \"content\": system_prompt},\n",
    "            {\"role\": \"user\", \"content\": user_prompt}\n",
    "        ]\n",
    "    )\n",
    "    \n",
    "    # Guardar el statement original y la generación\n",
    "    statements.append(statement['statement'])\n",
    "    generations.append(response.choices[0].message.content)\n",
    "\n",
    "# Calcular similitudes\n",
    "tf_cosine_scores = []\n",
    "for i in range(len(statements)):\n",
    "    tfidf = TfidfVectorizer().fit_transform([statements[i], generations[i]])\n",
    "    score = cosine_similarity(tfidf[0], tfidf[1])[0][0]\n",
    "    tf_cosine_scores.append(score)\n",
    "\n",
    "print('Average Cosine Similarity (TF-IDF):', sum(tf_cosine_scores) / len(tf_cosine_scores))"
   ]
  },
  {
   "cell_type": "code",
   "execution_count": 13,
   "metadata": {},
   "outputs": [
    {
     "name": "stdout",
     "output_type": "stream",
     "text": [
      "Average Cosine Similarity (TF-IDF): 0.7272845170779837\n"
     ]
    }
   ],
   "source": [
    "# Importar las bibliotecas necesarias\n",
    "from sklearn.feature_extraction.text import TfidfVectorizer\n",
    "from sklearn.metrics.pairwise import cosine_similarity\n",
    "\n",
    "# Inicializar las listas\n",
    "statements = []\n",
    "generations = []\n",
    "\n",
    "# Ya que data es un diccionario y no una lista, accedemos directamente a 'Statements'\n",
    "for statement in data['Statements']:\n",
    "    statements.append(statement['statement'])\n",
    "    # Verificar si 'generation' existe en el statement\n",
    "    if 'generation' in statement:\n",
    "        generations.append(statement['generation'])\n",
    "    else:\n",
    "        # Si no existe, generamos uno nuevo usando el modelo\n",
    "        country = statement['country']\n",
    "        system_prompt = f\"\"\"\n",
    "        Assume you are the representative of {country} in UNSC, given the content of a UNSC draft resolution, generate a statement that you would make in the meeting.\n",
    "        \"\"\"\n",
    "        user_prompt = f\"\"\"\n",
    "        Draft resolution: {data['Content']}\n",
    "        Your statement:\n",
    "        \"\"\"\n",
    "        \n",
    "        response = client.chat.completions.create(\n",
    "            model=your_model_name,\n",
    "            temperature=0.0,\n",
    "            messages=[\n",
    "                {\"role\": \"system\", \"content\": system_prompt},\n",
    "                {\"role\": \"user\", \"content\": user_prompt}\n",
    "            ]\n",
    "        )\n",
    "        generation = response.choices[0].message.content\n",
    "        generations.append(generation)\n",
    "\n",
    "# Calcular similitudes usando TF-IDF\n",
    "tf_cosine_scores = []\n",
    "for i in range(len(statements)):\n",
    "    tfidf = TfidfVectorizer().fit_transform([statements[i], generations[i]])\n",
    "    score = cosine_similarity(tfidf[0], tfidf[1])[0][0]\n",
    "    tf_cosine_scores.append(score)\n",
    "\n",
    "print('Average Cosine Similarity (TF-IDF):', sum(tf_cosine_scores) / len(tf_cosine_scores))"
   ]
  },
  {
   "cell_type": "code",
   "execution_count": 14,
   "metadata": {},
   "outputs": [
    {
     "name": "stdout",
     "output_type": "stream",
     "text": [
      "Average ROUGE-L: 0.2200956937799043\n"
     ]
    }
   ],
   "source": [
    "# average ROUGE\n",
    "from rouge_score import rouge_scorer\n",
    "scorer = rouge_scorer.RougeScorer(['rougeL'], use_stemmer=True)\n",
    "\n",
    "rouge_scores = []\n",
    "for i in range(len(statements)):\n",
    "    scores = scorer.score(statements[i], generations[i])\n",
    "    rouge_scores.append(scores['rougeL'].fmeasure)\n",
    "\n",
    "print('Average ROUGE-L:', sum(rouge_scores) / len(rouge_scores))"
   ]
  },
  {
   "cell_type": "code",
   "execution_count": 15,
   "metadata": {},
   "outputs": [
    {
     "name": "stdout",
     "output_type": "stream",
     "text": [
      "Average Jaccard similarity: 0.21428571428571427\n"
     ]
    }
   ],
   "source": [
    "# average Jaccard similarity\n",
    "from sklearn.feature_extraction.text import CountVectorizer\n",
    "from sklearn.metrics import jaccard_score\n",
    "\n",
    "jaccard_scores = []\n",
    "vectorizer = CountVectorizer(binary=True)\n",
    "\n",
    "for i in range(len(statements)):\n",
    "    X = vectorizer.fit_transform([statements[i], generations[i]]).toarray()\n",
    "    jaccard_scores.append(jaccard_score(X[0], X[1]))\n",
    "\n",
    "print('Average Jaccard similarity:', sum(jaccard_scores) / len(jaccard_scores))"
   ]
  },
  {
   "cell_type": "code",
   "execution_count": 16,
   "metadata": {},
   "outputs": [
    {
     "name": "stdout",
     "output_type": "stream",
     "text": [
      "Average Cosine Similarity (TF-IDF): 0.7272845170779837\n"
     ]
    }
   ],
   "source": [
    "# average Cosing Similarity (TF-IDF)\n",
    "from sklearn.feature_extraction.text import TfidfVectorizer\n",
    "from sklearn.metrics.pairwise import cosine_similarity\n",
    "\n",
    "tf_cosine_scores = []\n",
    "for i in range(len(statements)):\n",
    "    tfidf = TfidfVectorizer().fit_transform([statements[i], generations[i]])\n",
    "    tf_cosine_scores.append(cosine_similarity(tfidf[0], tfidf[1])[0][0])\n",
    "\n",
    "print('Average Cosine Similarity (TF-IDF):', sum(tf_cosine_scores) / len(tf_cosine_scores))"
   ]
  },
  {
   "cell_type": "code",
   "execution_count": 17,
   "metadata": {},
   "outputs": [
    {
     "name": "stdout",
     "output_type": "stream",
     "text": [
      "\n",
      "Resumen Final de Métricas de Similitud:\n",
      "----------------------------------------\n",
      "TF-IDF Cosine Similarity: 0.7273\n",
      "ROUGE-L Score:            0.2201\n",
      "Jaccard Similarity:       0.2143\n",
      "----------------------------------------\n"
     ]
    }
   ],
   "source": [
    "# Imprimir resumen final de todas las métricas\n",
    "print('\\nResumen Final de Métricas de Similitud:')\n",
    "print('-' * 40)\n",
    "print(f'TF-IDF Cosine Similarity: {sum(tf_cosine_scores) / len(tf_cosine_scores):.4f}')\n",
    "print(f'ROUGE-L Score:            {sum(rouge_scores) / len(rouge_scores):.4f}')\n",
    "print(f'Jaccard Similarity:       {sum(jaccard_scores) / len(jaccard_scores):.4f}')\n",
    "print('-' * 40)\n",
    "\n",
    "# Opcionalmente, podemos guardar los resultados\n",
    "results = {\n",
    "    'tf_idf': sum(tf_cosine_scores) / len(tf_cosine_scores),\n",
    "    'rouge_l': sum(rouge_scores) / len(rouge_scores),\n",
    "    'jaccard': sum(jaccard_scores) / len(jaccard_scores)\n",
    "}\n",
    "\n",
    "# Guardar los resultados en un archivo JSON\n",
    "with open('similarity_results.json', 'w') as f:\n",
    "    json.dump(results, f, indent=2)\n"
   ]
  },
  {
   "cell_type": "code",
   "execution_count": null,
   "metadata": {},
   "outputs": [],
   "source": []
  }
 ],
 "metadata": {
  "kernelspec": {
   "display_name": "Python 3 (ipykernel)",
   "language": "python",
   "name": "python3"
  },
  "language_info": {
   "codemirror_mode": {
    "name": "ipython",
    "version": 3
   },
   "file_extension": ".py",
   "mimetype": "text/x-python",
   "name": "python",
   "nbconvert_exporter": "python",
   "pygments_lexer": "ipython3",
   "version": "3.9.13"
  }
 },
 "nbformat": 4,
 "nbformat_minor": 4
}
